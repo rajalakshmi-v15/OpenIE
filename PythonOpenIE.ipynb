{
 "cells": [
  {
   "cell_type": "markdown",
   "metadata": {},
   "source": [
    "# Using OpenIE with Python\n",
    "\n",
    "A python wrapper called [pycorenlp](https://github.com/smilli/py-corenlp) is used.\n",
    "\n",
    "The dataset is as shown\n"
   ]
  },
  {
   "cell_type": "code",
   "execution_count": 12,
   "metadata": {},
   "outputs": [
    {
     "name": "stdout",
     "output_type": "stream",
     "text": [
      "\n",
      " PROBLEM  0 :\n",
      "\n",
      "47% of the students in a class of 34 students has glasses or contacts. How many students in the class have either glasses or contacts?\n",
      "\n",
      "\n",
      " PROBLEM  1 :\n",
      "\n",
      "The Mathplanet school has increased its student body from 150 students to 240 from last year. How big is the increase in percent?\n",
      "\n",
      "\n",
      " PROBLEM  2 :\n",
      "\n",
      "An estimated 3 out of every 25 men are left-handed. \n",
      "\n",
      "What percent of men are left-handed?\n",
      "\n",
      "\n",
      " PROBLEM  3 :\n",
      "\n",
      "Samuel has a collection of toy cars. His favorites are the 27 red ones which make up 60% of his collection. \n",
      "\n",
      "How many toy cars does Samuel have?\n",
      "\n",
      "\n",
      " PROBLEM  4 :\n",
      "\n"
     ]
    }
   ],
   "source": [
    "if __name__ == '__main__':\n",
    "    \n",
    "    MAX_COUNT = 5\n",
    "    count=0\n",
    "    with open(\"dataset\",\"r\") as f:\n",
    "        for l in f.readlines():\n",
    "            \n",
    "            if(l.strip() == \"#\"):\n",
    "                print(\"\\n PROBLEM \", count, \":\\n\")\n",
    "                count+=1\n",
    "                \n",
    "                # comment the next line to run through the entire dataset\n",
    "                if count == MAX_COUNT: break\n",
    "            else:\n",
    "                print(l)\n",
    "                "
   ]
  },
  {
   "cell_type": "markdown",
   "metadata": {},
   "source": [
    "The following code extracts tuples from the problems."
   ]
  },
  {
   "cell_type": "code",
   "execution_count": 14,
   "metadata": {},
   "outputs": [
    {
     "name": "stdout",
     "output_type": "stream",
     "text": [
      "\n",
      "WORD PROBLEM  0 :\n",
      "-------------------\n",
      "is in , students , class of 34 students\n",
      "is in , many students , class\n",
      "\n",
      "WORD PROBLEM  1 :\n",
      "-------------------\n",
      "has increased , Mathplanet school , its student body\n",
      "is in , increase , percent\n",
      "\n",
      "WORD PROBLEM  2 :\n",
      "-------------------\n",
      "\n",
      "WORD PROBLEM  3 :\n",
      "-------------------\n",
      "has , Samuel , collection of toy cars\n",
      "has , Samuel , collection\n",
      "are , His favorites , 27 red ones\n",
      "are , His favorites , 27 ones\n",
      "does have , Samuel , toy cars\n",
      "does have , Samuel , many toy cars\n",
      "does have , Samuel , How many toy cars\n",
      "\n",
      "WORD PROBLEM  4 :\n",
      "-------------------\n"
     ]
    }
   ],
   "source": [
    "from pycorenlp import StanfordCoreNLP\n",
    "\n",
    "if __name__ == '__main__':\n",
    "\tnlp = StanfordCoreNLP('http://localhost:9000')\n",
    "\n",
    "\tMAX_COUNT = 5\n",
    "    # number of sentences\n",
    "\tcount=0\n",
    "\twith open(\"dataset\",\"r\") as f:\n",
    "\t\tfor l in f.readlines():\n",
    "\t\t\tif(l.strip() == \"#\"):\n",
    "\t\t\t\tprint (\"\\nWORD PROBLEM \", count, \":\")\n",
    "\t\t\t\tprint (\"-------------------\")\n",
    "\t\t\t\tcount+=1\n",
    "\t\t\t\t# comment the next line to run through the entire dataset\n",
    "\t\t\t\tif count == MAX_COUNT: break\n",
    "\t\t\telse:\n",
    "\t\t\t\tres = nlp.annotate(l, properties = {\n",
    "\t\t\t\t\t'annotators': 'tokenize,ssplit,pos,lemma,depparse,natlog,openie',\n",
    "\t\t\t\t\t'outputFormat': 'json'\t\n",
    "\t\t\t\t\t})\n",
    "\t\t\t\tfor s in res[\"sentences\"]:\n",
    "\t\t\t\t\tresult = s[\"openie\"]\n",
    "\t\t\t\t\tfor element in result:\n",
    "\t\t\t\t\t\tprint(element['relation'],',', element['subject'],',', element['object'])\n",
    "\t\t\t\t\t\n"
   ]
  },
  {
   "cell_type": "markdown",
   "metadata": {},
   "source": []
  },
  {
   "cell_type": "code",
   "execution_count": null,
   "metadata": {},
   "outputs": [],
   "source": []
  }
 ],
 "metadata": {
  "kernelspec": {
   "display_name": "Python 3",
   "language": "python",
   "name": "python3"
  },
  "language_info": {
   "codemirror_mode": {
    "name": "ipython",
    "version": 3
   },
   "file_extension": ".py",
   "mimetype": "text/x-python",
   "name": "python",
   "nbconvert_exporter": "python",
   "pygments_lexer": "ipython3",
   "version": "3.5.2"
  }
 },
 "nbformat": 4,
 "nbformat_minor": 2
}
